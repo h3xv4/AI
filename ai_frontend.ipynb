{
 "cells": [
  {
   "cell_type": "code",
   "execution_count": null,
   "id": "b27784cd-e8e6-44a2-a4a0-f0688be27060",
   "metadata": {},
   "outputs": [
    {
     "name": "stdout",
     "output_type": "stream",
     "text": [
      "1/1 [==============================] - 0s 111ms/step\n"
     ]
    }
   ],
   "source": [
    "import tkinter as tk\n",
    "from tkinter import filedialog\n",
    "from PIL import Image, ImageTk\n",
    "import numpy as np\n",
    "import cv2  # Import OpenCV\n",
    "import keras\n",
    "\n",
    "# Load the model\n",
    "model = keras.models.load_model(r\"Fire_Detection_DL_odel.h5\", compile=False)\n",
    "\n",
    "# Global variable to store the uploaded image path\n",
    "global uploaded_image_path\n",
    "uploaded_image_path = None\n",
    "\n",
    "\n",
    "# Function to preprocess the image\n",
    "def preprocessing_image(filepath):\n",
    "    img = cv2.imread(filepath)  # Read\n",
    "    img = cv2.cvtColor(img, cv2.COLOR_RGB2BGR)  # Convert\n",
    "    img = cv2.resize(img, (196, 196))  # Resize\n",
    "    img = img / 255.0  # Scale\n",
    "    return img\n",
    "\n",
    "# Function to detect fire in the uploaded image\n",
    "def detect_fire():\n",
    "    global uploaded_image_path\n",
    "    if uploaded_image_path:\n",
    "        # Preprocess the image\n",
    "        img_array = preprocessing_image(uploaded_image_path)\n",
    "\n",
    "        # Reshape the image for prediction\n",
    "        image_for_prediction = np.expand_dims(img_array, axis=0)\n",
    "        \n",
    "        # Predict using the model\n",
    "        prediction = model.predict(image_for_prediction)\n",
    "        \n",
    "        # Determine the predicted class\n",
    "        predicted_class = \"Fire\" if prediction > 0.5 else \"Non-Fire\"\n",
    "        \n",
    "        return predicted_class\n",
    "    else:\n",
    "        return \"No image uploaded.\"\n",
    "\n",
    "# Function to upload an image\n",
    "def upload_image():\n",
    "    global uploaded_image_path\n",
    "    file_path = filedialog.askopenfilename()\n",
    "    if file_path:\n",
    "        uploaded_image_path = file_path\n",
    "        img = Image.open(file_path)\n",
    "        img.thumbnail((300, 300))\n",
    "        img = ImageTk.PhotoImage(img)\n",
    "        image_label.config(image=img)\n",
    "        image_label.image = img \n",
    "        result_label.config(text=\"\")\n",
    "\n",
    "# Function to perform fire detection\n",
    "def detect():\n",
    "    prediction = detect_fire()\n",
    "    result_label.config(text=\"Prediction: \" + prediction)\n",
    "\n",
    "# GUI setup\n",
    "root = tk.Tk()\n",
    "root.title(\"Fire Detection App\")\n",
    "\n",
    "upload_button = tk.Button(root, text=\"Upload Image\", command=upload_image)\n",
    "upload_button.pack(pady=10)\n",
    "\n",
    "image_label = tk.Label(root)\n",
    "image_label.pack()\n",
    "\n",
    "detect_button = tk.Button(root, text=\"Detect Fire\", command=detect)\n",
    "detect_button.pack(pady=10)\n",
    "\n",
    "result_label = tk.Label(root, text=\"\")\n",
    "result_label.pack()\n",
    "\n",
    "root.mainloop()\n"
   ]
  },
  {
   "cell_type": "code",
   "execution_count": null,
   "id": "a8970e78-cc52-4b3b-a122-5f251df92104",
   "metadata": {},
   "outputs": [],
   "source": []
  }
 ],
 "metadata": {
  "kernelspec": {
   "display_name": "Python 3 (ipykernel)",
   "language": "python",
   "name": "python3"
  },
  "language_info": {
   "codemirror_mode": {
    "name": "ipython",
    "version": 3
   },
   "file_extension": ".py",
   "mimetype": "text/x-python",
   "name": "python",
   "nbconvert_exporter": "python",
   "pygments_lexer": "ipython3",
   "version": "3.9.7"
  }
 },
 "nbformat": 4,
 "nbformat_minor": 5
}
